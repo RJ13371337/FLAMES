{
 "cells": [
  {
   "cell_type": "code",
   "execution_count": 2,
   "id": "25fe416b",
   "metadata": {},
   "outputs": [
    {
     "name": "stdout",
     "output_type": "stream",
     "text": [
      "Enter your name: riadh \n",
      "Enter the other person's name: Dora\n",
      "Names entered: riadh  Dora\n",
      "After removing common letters: idh  Do\n",
      "Count: 6\n",
      "The relationship between the two names is: friendship\n"
     ]
    }
   ],
   "source": [
    "def get_names():\n",
    "    name1 = input(\"Enter your name: \")\n",
    "    name2 = input(\"Enter the other person's name: \")\n",
    "    return name1, name2\n",
    "\n",
    "def remove_common_letters(name1, name2):\n",
    "    for letter1 in name1:\n",
    "        for letter2 in name2:\n",
    "            if letter1 == letter2:\n",
    "                name1 = name1.replace(letter1, \"\", 1)\n",
    "                name2 = name2.replace(letter2, \"\", 1)\n",
    "    return name1, name2\n",
    "\n",
    "def calculate_flames_count(name1, name2):\n",
    "    count = len(name1) + len(name2)\n",
    "    return count\n",
    "\n",
    "def get_flames_relationship(count):\n",
    "    flames = [\"friendship\", \"love\", \"affection\", \"marriage\", \"enemy\", \"siblings\"]\n",
    "    i = 0\n",
    "    while len(flames) > 1:\n",
    "        current_count = count % len(flames)\n",
    "        if current_count == 0:\n",
    "            current_count = len(flames) - 1\n",
    "        i = (i + current_count) % len(flames)\n",
    "        flames.pop(i)\n",
    "    return flames[0]\n",
    "\n",
    "def main():\n",
    "    name1, name2 = get_names()\n",
    "    print(\"Names entered: {} {}\".format(name1, name2))\n",
    "    \n",
    "    name1, name2 = remove_common_letters(name1, name2)\n",
    "    print(\"After removing common letters: {} {}\".format(name1, name2))\n",
    "    \n",
    "    count = calculate_flames_count(name1, name2)\n",
    "    print(\"Count: {}\".format(count))\n",
    "    \n",
    "    flames_relationship = get_flames_relationship(count)\n",
    "    print(\"The relationship between the two names is: {}\".format(flames_relationship))\n",
    "\n",
    "if __name__ == \"__main__\":\n",
    "    main()\n"
   ]
  }
 ],
 "metadata": {
  "kernelspec": {
   "display_name": "Python 3 (ipykernel)",
   "language": "python",
   "name": "python3"
  },
  "language_info": {
   "codemirror_mode": {
    "name": "ipython",
    "version": 3
   },
   "file_extension": ".py",
   "mimetype": "text/x-python",
   "name": "python",
   "nbconvert_exporter": "python",
   "pygments_lexer": "ipython3",
   "version": "3.9.13"
  }
 },
 "nbformat": 4,
 "nbformat_minor": 5
}
